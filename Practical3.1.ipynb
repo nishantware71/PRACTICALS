{
 "cells": [
  {
   "cell_type": "code",
   "execution_count": 2,
   "id": "84494f6a-e30d-472c-bdf1-5af5cdee1190",
   "metadata": {},
   "outputs": [],
   "source": [
    "import pandas as pd"
   ]
  },
  {
   "cell_type": "code",
   "execution_count": 8,
   "id": "524771ea-7b10-4a3f-8f53-6d0a803906e8",
   "metadata": {},
   "outputs": [
    {
     "data": {
      "text/html": [
       "<div>\n",
       "<style scoped>\n",
       "    .dataframe tbody tr th:only-of-type {\n",
       "        vertical-align: middle;\n",
       "    }\n",
       "\n",
       "    .dataframe tbody tr th {\n",
       "        vertical-align: top;\n",
       "    }\n",
       "\n",
       "    .dataframe thead th {\n",
       "        text-align: right;\n",
       "    }\n",
       "</style>\n",
       "<table border=\"1\" class=\"dataframe\">\n",
       "  <thead>\n",
       "    <tr style=\"text-align: right;\">\n",
       "      <th></th>\n",
       "      <th>Math_Score</th>\n",
       "      <th>Reading_Score</th>\n",
       "      <th>Writing_Score</th>\n",
       "      <th>Placement_Score</th>\n",
       "      <th>Club_Join_Date</th>\n",
       "      <th>placement_count</th>\n",
       "    </tr>\n",
       "  </thead>\n",
       "  <tbody>\n",
       "    <tr>\n",
       "      <th>0</th>\n",
       "      <td>75</td>\n",
       "      <td>90</td>\n",
       "      <td>80.0</td>\n",
       "      <td>79.0</td>\n",
       "      <td>2024.0</td>\n",
       "      <td>2.0</td>\n",
       "    </tr>\n",
       "    <tr>\n",
       "      <th>1</th>\n",
       "      <td>67</td>\n",
       "      <td>92</td>\n",
       "      <td>60.0</td>\n",
       "      <td>75.0</td>\n",
       "      <td>2023.0</td>\n",
       "      <td>2.0</td>\n",
       "    </tr>\n",
       "    <tr>\n",
       "      <th>2</th>\n",
       "      <td>62</td>\n",
       "      <td>75</td>\n",
       "      <td>61.0</td>\n",
       "      <td>75.0</td>\n",
       "      <td>2022.0</td>\n",
       "      <td>2.0</td>\n",
       "    </tr>\n",
       "    <tr>\n",
       "      <th>3</th>\n",
       "      <td>64</td>\n",
       "      <td>77</td>\n",
       "      <td>73.0</td>\n",
       "      <td>91.0</td>\n",
       "      <td>2022.0</td>\n",
       "      <td>3.0</td>\n",
       "    </tr>\n",
       "    <tr>\n",
       "      <th>4</th>\n",
       "      <td>76</td>\n",
       "      <td>85</td>\n",
       "      <td>79.0</td>\n",
       "      <td>75.0</td>\n",
       "      <td>2024.0</td>\n",
       "      <td>2.0</td>\n",
       "    </tr>\n",
       "    <tr>\n",
       "      <th>5</th>\n",
       "      <td>72</td>\n",
       "      <td>92</td>\n",
       "      <td>77.0</td>\n",
       "      <td>90.0</td>\n",
       "      <td>2025.0</td>\n",
       "      <td>3.0</td>\n",
       "    </tr>\n",
       "    <tr>\n",
       "      <th>6</th>\n",
       "      <td>77</td>\n",
       "      <td>aa</td>\n",
       "      <td>76.0</td>\n",
       "      <td>95.0</td>\n",
       "      <td>2022.0</td>\n",
       "      <td>3.0</td>\n",
       "    </tr>\n",
       "    <tr>\n",
       "      <th>7</th>\n",
       "      <td>78</td>\n",
       "      <td>79</td>\n",
       "      <td>71.0</td>\n",
       "      <td>78.0</td>\n",
       "      <td>2025.0</td>\n",
       "      <td>2.0</td>\n",
       "    </tr>\n",
       "    <tr>\n",
       "      <th>8</th>\n",
       "      <td>62</td>\n",
       "      <td>81</td>\n",
       "      <td>80.0</td>\n",
       "      <td>83.0</td>\n",
       "      <td>2022.0</td>\n",
       "      <td>2.0</td>\n",
       "    </tr>\n",
       "    <tr>\n",
       "      <th>9</th>\n",
       "      <td>74</td>\n",
       "      <td>84</td>\n",
       "      <td>68.0</td>\n",
       "      <td>77.0</td>\n",
       "      <td>2026.0</td>\n",
       "      <td>2.0</td>\n",
       "    </tr>\n",
       "    <tr>\n",
       "      <th>10</th>\n",
       "      <td>76</td>\n",
       "      <td>75</td>\n",
       "      <td>200.0</td>\n",
       "      <td>80.0</td>\n",
       "      <td>2022.0</td>\n",
       "      <td>2.0</td>\n",
       "    </tr>\n",
       "    <tr>\n",
       "      <th>11</th>\n",
       "      <td>78</td>\n",
       "      <td>89</td>\n",
       "      <td>63.0</td>\n",
       "      <td>84.0</td>\n",
       "      <td>2022.0</td>\n",
       "      <td>2.0</td>\n",
       "    </tr>\n",
       "    <tr>\n",
       "      <th>12</th>\n",
       "      <td>66</td>\n",
       "      <td>76</td>\n",
       "      <td>68.0</td>\n",
       "      <td>86.0</td>\n",
       "      <td>2026.0</td>\n",
       "      <td>3.0</td>\n",
       "    </tr>\n",
       "    <tr>\n",
       "      <th>13</th>\n",
       "      <td>60</td>\n",
       "      <td>83</td>\n",
       "      <td>62.0</td>\n",
       "      <td>100.0</td>\n",
       "      <td>2022.0</td>\n",
       "      <td>3.0</td>\n",
       "    </tr>\n",
       "    <tr>\n",
       "      <th>14</th>\n",
       "      <td>76</td>\n",
       "      <td>92</td>\n",
       "      <td>78.0</td>\n",
       "      <td>94.0</td>\n",
       "      <td>2023.0</td>\n",
       "      <td>3.0</td>\n",
       "    </tr>\n",
       "    <tr>\n",
       "      <th>15</th>\n",
       "      <td>62</td>\n",
       "      <td>79</td>\n",
       "      <td>60.0</td>\n",
       "      <td>76.0</td>\n",
       "      <td>2025.0</td>\n",
       "      <td>2.0</td>\n",
       "    </tr>\n",
       "    <tr>\n",
       "      <th>16</th>\n",
       "      <td>71</td>\n",
       "      <td>81</td>\n",
       "      <td>75.0</td>\n",
       "      <td>82.0</td>\n",
       "      <td>2026.0</td>\n",
       "      <td>2.0</td>\n",
       "    </tr>\n",
       "    <tr>\n",
       "      <th>17</th>\n",
       "      <td>73</td>\n",
       "      <td>81</td>\n",
       "      <td>61.0</td>\n",
       "      <td>98.0</td>\n",
       "      <td>2025.0</td>\n",
       "      <td>3.0</td>\n",
       "    </tr>\n",
       "    <tr>\n",
       "      <th>18</th>\n",
       "      <td>60</td>\n",
       "      <td>77</td>\n",
       "      <td>67.0</td>\n",
       "      <td>95.0</td>\n",
       "      <td>2024.0</td>\n",
       "      <td>3.0</td>\n",
       "    </tr>\n",
       "    <tr>\n",
       "      <th>19</th>\n",
       "      <td>79</td>\n",
       "      <td>92</td>\n",
       "      <td>70.0</td>\n",
       "      <td>85.0</td>\n",
       "      <td>2022.0</td>\n",
       "      <td>3.0</td>\n",
       "    </tr>\n",
       "    <tr>\n",
       "      <th>20</th>\n",
       "      <td>75</td>\n",
       "      <td>79</td>\n",
       "      <td>75.0</td>\n",
       "      <td>83.0</td>\n",
       "      <td>2026.0</td>\n",
       "      <td>2.0</td>\n",
       "    </tr>\n",
       "    <tr>\n",
       "      <th>21</th>\n",
       "      <td>73</td>\n",
       "      <td>86</td>\n",
       "      <td>66.0</td>\n",
       "      <td>98.0</td>\n",
       "      <td>2025.0</td>\n",
       "      <td>3.0</td>\n",
       "    </tr>\n",
       "    <tr>\n",
       "      <th>22</th>\n",
       "      <td>78</td>\n",
       "      <td>90</td>\n",
       "      <td>70.0</td>\n",
       "      <td>97.0</td>\n",
       "      <td>2026.0</td>\n",
       "      <td>3.0</td>\n",
       "    </tr>\n",
       "    <tr>\n",
       "      <th>23</th>\n",
       "      <td>60</td>\n",
       "      <td>91</td>\n",
       "      <td>75.0</td>\n",
       "      <td>93.0</td>\n",
       "      <td>2026.0</td>\n",
       "      <td>3.0</td>\n",
       "    </tr>\n",
       "    <tr>\n",
       "      <th>24</th>\n",
       "      <td>63</td>\n",
       "      <td>91</td>\n",
       "      <td>63.0</td>\n",
       "      <td>99.0</td>\n",
       "      <td>2025.0</td>\n",
       "      <td>3.0</td>\n",
       "    </tr>\n",
       "    <tr>\n",
       "      <th>25</th>\n",
       "      <td>72</td>\n",
       "      <td>81</td>\n",
       "      <td>65.0</td>\n",
       "      <td>97.0</td>\n",
       "      <td>2023.0</td>\n",
       "      <td>3.0</td>\n",
       "    </tr>\n",
       "    <tr>\n",
       "      <th>26</th>\n",
       "      <td>76</td>\n",
       "      <td>82</td>\n",
       "      <td>77.0</td>\n",
       "      <td>81.0</td>\n",
       "      <td>2025.0</td>\n",
       "      <td>2.0</td>\n",
       "    </tr>\n",
       "    <tr>\n",
       "      <th>27</th>\n",
       "      <td>76</td>\n",
       "      <td>84</td>\n",
       "      <td>79.0</td>\n",
       "      <td>89.0</td>\n",
       "      <td>2024.0</td>\n",
       "      <td>3.0</td>\n",
       "    </tr>\n",
       "    <tr>\n",
       "      <th>28</th>\n",
       "      <td>71</td>\n",
       "      <td>NaN</td>\n",
       "      <td>NaN</td>\n",
       "      <td>NaN</td>\n",
       "      <td>NaN</td>\n",
       "      <td>NaN</td>\n",
       "    </tr>\n",
       "  </tbody>\n",
       "</table>\n",
       "</div>"
      ],
      "text/plain": [
       "    Math_Score Reading_Score  Writing_Score  Placement_Score  Club_Join_Date  \\\n",
       "0           75            90           80.0             79.0          2024.0   \n",
       "1           67            92           60.0             75.0          2023.0   \n",
       "2           62            75           61.0             75.0          2022.0   \n",
       "3           64            77           73.0             91.0          2022.0   \n",
       "4           76            85           79.0             75.0          2024.0   \n",
       "5           72            92           77.0             90.0          2025.0   \n",
       "6           77            aa           76.0             95.0          2022.0   \n",
       "7           78            79           71.0             78.0          2025.0   \n",
       "8           62            81           80.0             83.0          2022.0   \n",
       "9           74            84           68.0             77.0          2026.0   \n",
       "10          76            75          200.0             80.0          2022.0   \n",
       "11          78            89           63.0             84.0          2022.0   \n",
       "12          66            76           68.0             86.0          2026.0   \n",
       "13          60            83           62.0            100.0          2022.0   \n",
       "14          76            92           78.0             94.0          2023.0   \n",
       "15          62            79           60.0             76.0          2025.0   \n",
       "16          71            81           75.0             82.0          2026.0   \n",
       "17          73            81           61.0             98.0          2025.0   \n",
       "18          60            77           67.0             95.0          2024.0   \n",
       "19          79            92           70.0             85.0          2022.0   \n",
       "20          75            79           75.0             83.0          2026.0   \n",
       "21          73            86           66.0             98.0          2025.0   \n",
       "22          78            90           70.0             97.0          2026.0   \n",
       "23          60            91           75.0             93.0          2026.0   \n",
       "24          63            91           63.0             99.0          2025.0   \n",
       "25          72            81           65.0             97.0          2023.0   \n",
       "26          76            82           77.0             81.0          2025.0   \n",
       "27          76            84           79.0             89.0          2024.0   \n",
       "28          71           NaN            NaN              NaN             NaN   \n",
       "\n",
       "    placement_count  \n",
       "0               2.0  \n",
       "1               2.0  \n",
       "2               2.0  \n",
       "3               3.0  \n",
       "4               2.0  \n",
       "5               3.0  \n",
       "6               3.0  \n",
       "7               2.0  \n",
       "8               2.0  \n",
       "9               2.0  \n",
       "10              2.0  \n",
       "11              2.0  \n",
       "12              3.0  \n",
       "13              3.0  \n",
       "14              3.0  \n",
       "15              2.0  \n",
       "16              2.0  \n",
       "17              3.0  \n",
       "18              3.0  \n",
       "19              3.0  \n",
       "20              2.0  \n",
       "21              3.0  \n",
       "22              3.0  \n",
       "23              3.0  \n",
       "24              3.0  \n",
       "25              3.0  \n",
       "26              2.0  \n",
       "27              3.0  \n",
       "28              NaN  "
      ]
     },
     "execution_count": 8,
     "metadata": {},
     "output_type": "execute_result"
    }
   ],
   "source": [
    "df = pd.read_csv(\"C:\\\\Users\\\\Welcome\\\\Documents\\\\dsbda2\\\\studentPerformance.csv\")   \n",
    "df"
   ]
  },
  {
   "cell_type": "code",
   "execution_count": 36,
   "id": "baf198ce-39fa-46c4-8cfc-cfd08e2dafb8",
   "metadata": {},
   "outputs": [
    {
     "name": "stdout",
     "output_type": "stream",
     "text": [
      "Student ID    90.500000\n",
      "Age           22.116667\n",
      "GPA            3.615000\n",
      "dtype: float64\n"
     ]
    }
   ],
   "source": [
    "# Select only numeric columns\n",
    "col = df.select_dtypes(include=[np.number])\n",
    "# Calculate mean for each numeric column\n",
    "mean = col.mean()\n",
    "print(mean)"
   ]
  },
  {
   "cell_type": "code",
   "execution_count": 30,
   "id": "5acb86d9-da08-499c-9ca2-635ce8bf633b",
   "metadata": {},
   "outputs": [
    {
     "data": {
      "text/plain": [
       "22.116666666666667"
      ]
     },
     "execution_count": 30,
     "metadata": {},
     "output_type": "execute_result"
    }
   ],
   "source": [
    "# To find mean of specific column\n",
    "df.loc[:,'Age'].mean()"
   ]
  },
  {
   "cell_type": "code",
   "execution_count": 41,
   "id": "441f0466-1715-47fb-8a91-d0d2d03d4a0d",
   "metadata": {
    "scrolled": true
   },
   "outputs": [
    {
     "name": "stdout",
     "output_type": "stream",
     "text": [
      "0    8.500000\n",
      "1    8.400000\n",
      "2    9.600000\n",
      "3    9.566667\n",
      "dtype: float64\n"
     ]
    }
   ],
   "source": [
    "#numeric columns\n",
    "num_col = df.select_dtypes(include=[np.number])\n",
    "#row-wise mean for first 4 rows\n",
    "mean_4 = num_col.head(4).mean(axis=1)\n",
    "print(mean_4)"
   ]
  },
  {
   "cell_type": "code",
   "execution_count": 38,
   "id": "dbbd6040-eb9e-43da-b74d-b57c222823c6",
   "metadata": {},
   "outputs": [
    {
     "data": {
      "text/plain": [
       "Student ID    90.5\n",
       "Age           22.0\n",
       "GPA            3.6\n",
       "dtype: float64"
      ]
     },
     "execution_count": 38,
     "metadata": {},
     "output_type": "execute_result"
    }
   ],
   "source": [
    "# Median\n",
    "# All Columns\n",
    "col = df.select_dtypes(include=[np.number])\n",
    "col.median()"
   ]
  },
  {
   "cell_type": "code",
   "execution_count": 39,
   "id": "6d61fee0-c8d4-4879-8fb5-0d1a916dd771",
   "metadata": {},
   "outputs": [
    {
     "data": {
      "text/plain": [
       "22.0"
      ]
     },
     "execution_count": 39,
     "metadata": {},
     "output_type": "execute_result"
    }
   ],
   "source": [
    "# specific column\n",
    "df.loc[:,'Age'].median()"
   ]
  },
  {
   "cell_type": "code",
   "execution_count": 43,
   "id": "e574004b-f14d-4058-90d0-99d0f0c7d801",
   "metadata": {
    "scrolled": true
   },
   "outputs": [
    {
     "name": "stdout",
     "output_type": "stream",
     "text": [
      "0    3.5\n",
      "1    3.2\n",
      "2    3.8\n",
      "3    4.0\n",
      "dtype: float64\n"
     ]
    }
   ],
   "source": [
    "#numeric columns\n",
    "num_col = df.select_dtypes(include=[np.number])\n",
    "#row-wise median for  first 4 rows\n",
    "median_4 = num_col.head(4).median(axis=1)\n",
    "print(median_4)"
   ]
  },
  {
   "cell_type": "code",
   "execution_count": 44,
   "id": "373d37ce-7e6c-4139-b9b7-3245c073fa50",
   "metadata": {},
   "outputs": [
    {
     "data": {
      "text/html": [
       "<div>\n",
       "<style scoped>\n",
       "    .dataframe tbody tr th:only-of-type {\n",
       "        vertical-align: middle;\n",
       "    }\n",
       "\n",
       "    .dataframe tbody tr th {\n",
       "        vertical-align: top;\n",
       "    }\n",
       "\n",
       "    .dataframe thead th {\n",
       "        text-align: right;\n",
       "    }\n",
       "</style>\n",
       "<table border=\"1\" class=\"dataframe\">\n",
       "  <thead>\n",
       "    <tr style=\"text-align: right;\">\n",
       "      <th></th>\n",
       "      <th>Student ID</th>\n",
       "      <th>Age</th>\n",
       "      <th>GPA</th>\n",
       "    </tr>\n",
       "  </thead>\n",
       "  <tbody>\n",
       "    <tr>\n",
       "      <th>0</th>\n",
       "      <td>1</td>\n",
       "      <td>22.0</td>\n",
       "      <td>3.7</td>\n",
       "    </tr>\n",
       "    <tr>\n",
       "      <th>1</th>\n",
       "      <td>2</td>\n",
       "      <td>NaN</td>\n",
       "      <td>NaN</td>\n",
       "    </tr>\n",
       "    <tr>\n",
       "      <th>2</th>\n",
       "      <td>3</td>\n",
       "      <td>NaN</td>\n",
       "      <td>NaN</td>\n",
       "    </tr>\n",
       "    <tr>\n",
       "      <th>3</th>\n",
       "      <td>4</td>\n",
       "      <td>NaN</td>\n",
       "      <td>NaN</td>\n",
       "    </tr>\n",
       "    <tr>\n",
       "      <th>4</th>\n",
       "      <td>5</td>\n",
       "      <td>NaN</td>\n",
       "      <td>NaN</td>\n",
       "    </tr>\n",
       "    <tr>\n",
       "      <th>...</th>\n",
       "      <td>...</td>\n",
       "      <td>...</td>\n",
       "      <td>...</td>\n",
       "    </tr>\n",
       "    <tr>\n",
       "      <th>175</th>\n",
       "      <td>176</td>\n",
       "      <td>NaN</td>\n",
       "      <td>NaN</td>\n",
       "    </tr>\n",
       "    <tr>\n",
       "      <th>176</th>\n",
       "      <td>177</td>\n",
       "      <td>NaN</td>\n",
       "      <td>NaN</td>\n",
       "    </tr>\n",
       "    <tr>\n",
       "      <th>177</th>\n",
       "      <td>178</td>\n",
       "      <td>NaN</td>\n",
       "      <td>NaN</td>\n",
       "    </tr>\n",
       "    <tr>\n",
       "      <th>178</th>\n",
       "      <td>179</td>\n",
       "      <td>NaN</td>\n",
       "      <td>NaN</td>\n",
       "    </tr>\n",
       "    <tr>\n",
       "      <th>179</th>\n",
       "      <td>180</td>\n",
       "      <td>NaN</td>\n",
       "      <td>NaN</td>\n",
       "    </tr>\n",
       "  </tbody>\n",
       "</table>\n",
       "<p>180 rows × 3 columns</p>\n",
       "</div>"
      ],
      "text/plain": [
       "     Student ID   Age  GPA\n",
       "0             1  22.0  3.7\n",
       "1             2   NaN  NaN\n",
       "2             3   NaN  NaN\n",
       "3             4   NaN  NaN\n",
       "4             5   NaN  NaN\n",
       "..          ...   ...  ...\n",
       "175         176   NaN  NaN\n",
       "176         177   NaN  NaN\n",
       "177         178   NaN  NaN\n",
       "178         179   NaN  NaN\n",
       "179         180   NaN  NaN\n",
       "\n",
       "[180 rows x 3 columns]"
      ]
     },
     "execution_count": 44,
     "metadata": {},
     "output_type": "execute_result"
    }
   ],
   "source": [
    "# Mode\n",
    "col = df.select_dtypes(include=[np.number])\n",
    "col.mode()"
   ]
  },
  {
   "cell_type": "code",
   "execution_count": 45,
   "id": "3d1a9015-c178-4097-a549-0a6ee39c3d60",
   "metadata": {},
   "outputs": [
    {
     "data": {
      "text/plain": [
       "Student ID     1.0\n",
       "Age           20.0\n",
       "GPA            3.2\n",
       "dtype: float64"
      ]
     },
     "execution_count": 45,
     "metadata": {},
     "output_type": "execute_result"
    }
   ],
   "source": [
    "#Minimum\n",
    "col = df.select_dtypes(include=[np.number])\n",
    "col.min()"
   ]
  },
  {
   "cell_type": "code",
   "execution_count": 46,
   "id": "56b5878f-6b8e-4ee8-8743-03961f6034f7",
   "metadata": {},
   "outputs": [
    {
     "data": {
      "text/plain": [
       "Student ID    180.0\n",
       "Age            37.0\n",
       "GPA             3.9\n",
       "dtype: float64"
      ]
     },
     "execution_count": 46,
     "metadata": {},
     "output_type": "execute_result"
    }
   ],
   "source": [
    "# Maximum\n",
    "col = df.select_dtypes(include=[np.number])\n",
    "col.max()"
   ]
  },
  {
   "cell_type": "code",
   "execution_count": 47,
   "id": "691a53b5-0425-4983-a32c-4431843ee0ad",
   "metadata": {},
   "outputs": [
    {
     "data": {
      "text/plain": [
       "Student ID    52.105662\n",
       "Age            2.823040\n",
       "GPA            0.177341\n",
       "dtype: float64"
      ]
     },
     "execution_count": 47,
     "metadata": {},
     "output_type": "execute_result"
    }
   ],
   "source": [
    "# Standard Deviation\n",
    "col = df.select_dtypes(include=[np.number])\n",
    "col.std()"
   ]
  },
  {
   "cell_type": "code",
   "execution_count": 49,
   "id": "011010d3-2400-484f-8cf4-8652492c4bc5",
   "metadata": {},
   "outputs": [
    {
     "name": "stdout",
     "output_type": "stream",
     "text": [
      "0    10.897247\n",
      "1    10.063797\n",
      "2    10.746162\n",
      "3     9.902693\n",
      "dtype: float64\n"
     ]
    }
   ],
   "source": [
    "# Standard Deviation row wise\n",
    "#numeric columns\n",
    "num_col = df.select_dtypes(include=[np.number])\n",
    "#row-wise \n",
    "median_4 = num_col.head(4).std(axis=1)\n",
    "print(median_4)"
   ]
  },
  {
   "cell_type": "code",
   "execution_count": 14,
   "id": "dbc45b3f-3a1b-4498-a3d4-f39a7970301c",
   "metadata": {},
   "outputs": [
    {
     "name": "stdout",
     "output_type": "stream",
     "text": [
      "Skewness of Math_Score: -0.5337677457715763\n"
     ]
    }
   ],
   "source": [
    "df = pd.DataFrame(df)\n",
    "\n",
    "df['Reading_Score'] = pd.to_numeric(df['Reading_Score'], errors='coerce')\n",
    "\n",
    "df.fillna(df.mean(), inplace=True)\n",
    "\n",
    "math_score_skewness = df['Math_Score'].skew()\n",
    "\n",
    "print(f\"Skewness of Math_Score: {math_score_skewness}\")"
   ]
  }
 ],
 "metadata": {
  "kernelspec": {
   "display_name": "base",
   "language": "python",
   "name": "python3"
  },
  "language_info": {
   "codemirror_mode": {
    "name": "ipython",
    "version": 3
   },
   "file_extension": ".py",
   "mimetype": "text/x-python",
   "name": "python",
   "nbconvert_exporter": "python",
   "pygments_lexer": "ipython3",
   "version": "3.12.7"
  }
 },
 "nbformat": 4,
 "nbformat_minor": 5
}
